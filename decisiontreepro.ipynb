{
 "cells": [
  {
   "cell_type": "code",
   "execution_count": 55,
   "metadata": {},
   "outputs": [
    {
     "name": "stdout",
     "output_type": "stream",
     "text": [
      "[[145   1]\n",
      " [  2 127]]\n",
      "0.9890909090909091\n"
     ]
    },
    {
     "data": {
      "image/png": "[encoded data removed]",
      "text/plain": [
       "<Figure size 432x288 with 1 Axes>"
      ]
     },
     "metadata": {
      "needs_background": "light"
     },
     "output_type": "display_data"
    }
   ],
   "source": [
    "import numpy as np\n",
    "import pandas as pd\n",
    "from matplotlib import pyplot as plt\n",
    "from sklearn.tree import DecisionTreeClassifier\n",
    "from sklearn.model_selection import train_test_split\n",
    "from sklearn.metrics import confusion_matrix\n",
    "from sklearn.metrics import accuracy_score\n",
    "\n",
    "data= pd.read_csv('data_banknote_authentication.txt')\n",
    "\n",
    "#print(data.describe())\n",
    "\n",
    "#print(data.corr())\n",
    "\n",
    "feature= data[[\"varience\",\"skewness\",\"curtosis\",\"entropy\"]]\n",
    "target = data[[\"class\"]]\n",
    "\n",
    "#print(target.head())\n",
    "\n",
    "featuretrain , featuretest , targettrain , targettest=train_test_split(feature,target,test_size=.2)\n",
    "\n",
    "model=DecisionTreeClassifier()\n",
    "fitmodel=model.fit(featuretrain,targettrain)\n",
    "\n",
    "prediction =fitmodel.predict(featuretest)\n",
    "\n",
    "\n",
    "#print(prediction)\n",
    "\n",
    "print (confusion_matrix(targettest,prediction))\n",
    "print (accuracy_score(targettest,prediction))\n",
    "\n",
    "plt.title('Decision Tree')\n",
    "plt.xlabel('Target test result class')\n",
    "plt.ylabel('Prediction test' )\n",
    "plt.plot(targettest,prediction,'o')\n",
    "plt.show()"
   ]
  },
  {
   "cell_type": "code",
   "execution_count": null,
   "metadata": {},
   "outputs": [],
   "source": []
  },
  {
   "cell_type": "code",
   "execution_count": null,
   "metadata": {},
   "outputs": [],
   "source": []
  }
 ],
 "metadata": {
  "kernelspec": {
   "display_name": "Python 3",
   "language": "python",
   "name": "python3"
  },
  "language_info": {
   "codemirror_mode": {
    "name": "ipython",
    "version": 3
   },
   "file_extension": ".py",
   "mimetype": "text/x-python",
   "name": "python",
   "nbconvert_exporter": "python",
   "pygments_lexer": "ipython3",
   "version": "3.7.1"
  }
 },
 "nbformat": 4,
 "nbformat_minor": 2
}
